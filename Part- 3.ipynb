{
 "cells": [
  {
   "cell_type": "markdown",
   "id": "1c203761",
   "metadata": {},
   "source": [
    "- EDITING AND DELETING IN STRINGS"
   ]
  },
  {
   "cell_type": "markdown",
   "id": "9dde3ea0",
   "metadata": {},
   "source": [
    "- Strings are immutable in Python, Hence editing and deleting is not possible."
   ]
  },
  {
   "cell_type": "markdown",
   "id": "89e138fb",
   "metadata": {},
   "source": [
    "\n",
    "- Reassinging OR complete deletion is supported by Python."
   ]
  },
  {
   "cell_type": "code",
   "execution_count": 10,
   "id": "ddd93dfd",
   "metadata": {},
   "outputs": [],
   "source": [
    "c = 'Hello' # complete deletion of string 'C'\n",
    "del c"
   ]
  },
  {
   "cell_type": "code",
   "execution_count": 12,
   "id": "cfdac571",
   "metadata": {},
   "outputs": [
    {
     "ename": "NameError",
     "evalue": "name 'c' is not defined",
     "output_type": "error",
     "traceback": [
      "\u001b[0;31m---------------------------------------------------------------------------\u001b[0m",
      "\u001b[0;31mNameError\u001b[0m                                 Traceback (most recent call last)",
      "Cell \u001b[0;32mIn[12], line 1\u001b[0m\n\u001b[0;32m----> 1\u001b[0m \u001b[38;5;28mprint\u001b[39m(\u001b[43mc\u001b[49m)\n",
      "\u001b[0;31mNameError\u001b[0m: name 'c' is not defined"
     ]
    }
   ],
   "source": [
    "print(c)"
   ]
  },
  {
   "cell_type": "code",
   "execution_count": 14,
   "id": "f0285766",
   "metadata": {},
   "outputs": [
    {
     "name": "stdout",
     "output_type": "stream",
     "text": [
      "Hey\n"
     ]
    }
   ],
   "source": [
    "c = 'Hey'  # Reassinging the stirng.\n",
    "print(c)"
   ]
  },
  {
   "cell_type": "code",
   "execution_count": null,
   "id": "3936aed0",
   "metadata": {},
   "outputs": [],
   "source": []
  }
 ],
 "metadata": {
  "kernelspec": {
   "display_name": "Python 3 (ipykernel)",
   "language": "python",
   "name": "python3"
  },
  "language_info": {
   "codemirror_mode": {
    "name": "ipython",
    "version": 3
   },
   "file_extension": ".py",
   "mimetype": "text/x-python",
   "name": "python",
   "nbconvert_exporter": "python",
   "pygments_lexer": "ipython3",
   "version": "3.10.12"
  }
 },
 "nbformat": 4,
 "nbformat_minor": 5
}
