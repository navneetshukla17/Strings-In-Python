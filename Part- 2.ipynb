{
 "cells": [
  {
   "cell_type": "markdown",
   "id": "e06baac5",
   "metadata": {},
   "source": [
    "- ACCESSING SUBSTRINGS FROM A STRING"
   ]
  },
  {
   "cell_type": "markdown",
   "id": "f412b4ed",
   "metadata": {},
   "source": [
    "CONCEPT OF INDEXING:\n",
    "- Indexing\n",
    "- Slicing"
   ]
  },
  {
   "cell_type": "markdown",
   "id": "237ae8a4",
   "metadata": {},
   "source": [
    "#### Types of Indexing:\n",
    "    \n",
    "   - Positive Indexing\n",
    "   - Negative Indexing\n",
    "   "
   ]
  },
  {
   "cell_type": "markdown",
   "id": "a80ba3f1",
   "metadata": {},
   "source": [
    " - Positive Indexing:"
   ]
  },
  {
   "cell_type": "code",
   "execution_count": 10,
   "id": "e6ecc9ab",
   "metadata": {},
   "outputs": [
    {
     "name": "stdout",
     "output_type": "stream",
     "text": [
      "H\n",
      "e\n",
      "l\n",
      "l\n",
      "o\n"
     ]
    }
   ],
   "source": [
    "a = 'Hello'\n",
    "\n",
    "print(a[0])\n",
    "print(a[1])\n",
    "print(a[2])\n",
    "print(a[3])\n",
    "print(a[4])"
   ]
  },
  {
   "cell_type": "markdown",
   "id": "e9383818",
   "metadata": {},
   "source": [
    "- Negative Indexing: "
   ]
  },
  {
   "cell_type": "code",
   "execution_count": 11,
   "id": "dafbc7ce",
   "metadata": {},
   "outputs": [
    {
     "name": "stdout",
     "output_type": "stream",
     "text": [
      "o\n",
      "l\n",
      "l\n",
      "e\n",
      "H\n"
     ]
    }
   ],
   "source": [
    "a = 'Hello'\n",
    "\n",
    "print(a[-1])\n",
    "print(a[-2])\n",
    "print(a[-3])\n",
    "print(a[-4])\n",
    "print(a[-5])"
   ]
  },
  {
   "cell_type": "markdown",
   "id": "faff2f6b",
   "metadata": {},
   "source": [
    "- Slicing"
   ]
  },
  {
   "cell_type": "code",
   "execution_count": 17,
   "id": "fa651040",
   "metadata": {},
   "outputs": [
    {
     "name": "stdout",
     "output_type": "stream",
     "text": [
      "Hello\n"
     ]
    }
   ],
   "source": [
    "a = 'Hello World'\n",
    "print(a[0:5])"
   ]
  },
  {
   "cell_type": "code",
   "execution_count": 18,
   "id": "8d852039",
   "metadata": {},
   "outputs": [
    {
     "name": "stdout",
     "output_type": "stream",
     "text": [
      "World\n"
     ]
    }
   ],
   "source": [
    "print(a[6:11])"
   ]
  },
  {
   "cell_type": "code",
   "execution_count": 24,
   "id": "312cbbdf",
   "metadata": {},
   "outputs": [
    {
     "name": "stdout",
     "output_type": "stream",
     "text": [
      "llo World\n"
     ]
    }
   ],
   "source": [
    "print(a[2:])"
   ]
  },
  {
   "cell_type": "code",
   "execution_count": 25,
   "id": "fd1b5c15",
   "metadata": {},
   "outputs": [
    {
     "name": "stdout",
     "output_type": "stream",
     "text": [
      "He\n"
     ]
    }
   ],
   "source": [
    "print(a[:2])"
   ]
  },
  {
   "cell_type": "code",
   "execution_count": 30,
   "id": "206509c0",
   "metadata": {},
   "outputs": [
    {
     "name": "stdout",
     "output_type": "stream",
     "text": [
      "Hello World\n",
      "llo\n"
     ]
    }
   ],
   "source": [
    "print(a)\n",
    "print(a[2:5:1])"
   ]
  },
  {
   "cell_type": "code",
   "execution_count": 32,
   "id": "883ef7fe",
   "metadata": {},
   "outputs": [
    {
     "name": "stdout",
     "output_type": "stream",
     "text": [
      "Hl\n"
     ]
    }
   ],
   "source": [
    "print(a[:5:3])"
   ]
  },
  {
   "cell_type": "code",
   "execution_count": 39,
   "id": "92c7ac08",
   "metadata": {},
   "outputs": [
    {
     "name": "stdout",
     "output_type": "stream",
     "text": [
      "dlroW olleH\n"
     ]
    }
   ],
   "source": [
    "print(a[::-1])"
   ]
  },
  {
   "cell_type": "code",
   "execution_count": 48,
   "id": "5eee6815",
   "metadata": {},
   "outputs": [
    {
     "name": "stdout",
     "output_type": "stream",
     "text": [
      "dlro\n"
     ]
    }
   ],
   "source": [
    "a\n",
    "print(a[-1:-5:-1])"
   ]
  },
  {
   "cell_type": "code",
   "execution_count": 49,
   "id": "dc1685ac",
   "metadata": {},
   "outputs": [],
   "source": [
    "credit_num = '1234-5678-9012-3456'"
   ]
  },
  {
   "cell_type": "code",
   "execution_count": 53,
   "id": "2700580a",
   "metadata": {},
   "outputs": [],
   "source": [
    "last_digits = credit_num[-4:]"
   ]
  },
  {
   "cell_type": "code",
   "execution_count": 55,
   "id": "75233075",
   "metadata": {},
   "outputs": [
    {
     "name": "stdout",
     "output_type": "stream",
     "text": [
      "Last four digits: XXXX-XXXX-3456\n"
     ]
    }
   ],
   "source": [
    "print(f'Last four digits: XXXX-XXXX-{last_digits}')"
   ]
  },
  {
   "cell_type": "code",
   "execution_count": null,
   "id": "6399f75f",
   "metadata": {},
   "outputs": [],
   "source": []
  }
 ],
 "metadata": {
  "kernelspec": {
   "display_name": "Python 3 (ipykernel)",
   "language": "python",
   "name": "python3"
  },
  "language_info": {
   "codemirror_mode": {
    "name": "ipython",
    "version": 3
   },
   "file_extension": ".py",
   "mimetype": "text/x-python",
   "name": "python",
   "nbconvert_exporter": "python",
   "pygments_lexer": "ipython3",
   "version": "3.10.12"
  }
 },
 "nbformat": 4,
 "nbformat_minor": 5
}
