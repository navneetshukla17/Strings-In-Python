{
 "cells": [
  {
   "cell_type": "markdown",
   "id": "2ccef3c7",
   "metadata": {},
   "source": [
    "Common Functions: These functions are common among all the iterables(lists, sets, tuples, dictionary) along with strings.\n",
    " 1. len()\n",
    " 2. min / max\n",
    " 3. sorted()\n",
    " "
   ]
  },
  {
   "cell_type": "code",
   "execution_count": 12,
   "id": "4cb4dc33",
   "metadata": {},
   "outputs": [],
   "source": [
    "c = 'kolkata'"
   ]
  },
  {
   "cell_type": "code",
   "execution_count": 13,
   "id": "a254c54d",
   "metadata": {},
   "outputs": [
    {
     "data": {
      "text/plain": [
       "7"
      ]
     },
     "execution_count": 13,
     "metadata": {},
     "output_type": "execute_result"
    }
   ],
   "source": [
    "len(c)"
   ]
  },
  {
   "cell_type": "code",
   "execution_count": 14,
   "id": "6dc4146c",
   "metadata": {},
   "outputs": [
    {
     "data": {
      "text/plain": [
       "'a'"
      ]
     },
     "execution_count": 14,
     "metadata": {},
     "output_type": "execute_result"
    }
   ],
   "source": [
    "min(c)"
   ]
  },
  {
   "cell_type": "code",
   "execution_count": 15,
   "id": "a058c22f",
   "metadata": {},
   "outputs": [
    {
     "data": {
      "text/plain": [
       "'t'"
      ]
     },
     "execution_count": 15,
     "metadata": {},
     "output_type": "execute_result"
    }
   ],
   "source": [
    "max(c)"
   ]
  },
  {
   "cell_type": "code",
   "execution_count": 16,
   "id": "b8279920",
   "metadata": {},
   "outputs": [
    {
     "data": {
      "text/plain": [
       "['a', 'a', 'k', 'k', 'l', 'o', 't']"
      ]
     },
     "execution_count": 16,
     "metadata": {},
     "output_type": "execute_result"
    }
   ],
   "source": [
    "# this will sort characters of string 'c' \n",
    "# in ascending order of their ASCII values.\n",
    "sorted(c) "
   ]
  },
  {
   "cell_type": "code",
   "execution_count": 17,
   "id": "c4d26ce7",
   "metadata": {},
   "outputs": [
    {
     "data": {
      "text/plain": [
       "['t', 'o', 'l', 'k', 'k', 'a', 'a']"
      ]
     },
     "execution_count": 17,
     "metadata": {},
     "output_type": "execute_result"
    }
   ],
   "source": [
    "# this will sort characters of string 'c' \n",
    "# in descending order of their ASCII values.\n",
    "sorted(c, reverse=True)"
   ]
  },
  {
   "cell_type": "markdown",
   "id": "a55516dd",
   "metadata": {},
   "source": [
    "STRING SPECIFIC FUNCTIONS: \n",
    "\n",
    "1. capitalize, title, upper, lower, swapcase.\n",
    "2. count\n",
    "3. find, index\n",
    "4. endswith, startswith\n",
    "5. format\n",
    "6. isalnum, isdigit, etc...\n",
    "7. spilt\n",
    "8. join"
   ]
  },
  {
   "cell_type": "markdown",
   "id": "3729c757",
   "metadata": {},
   "source": [
    "## 1. capitalize(), title(), upper(), lower(), swapcase()"
   ]
  },
  {
   "cell_type": "code",
   "execution_count": 18,
   "id": "e687ac28",
   "metadata": {},
   "outputs": [
    {
     "data": {
      "text/plain": [
       "'Kolkata'"
      ]
     },
     "execution_count": 18,
     "metadata": {},
     "output_type": "execute_result"
    }
   ],
   "source": [
    "c.capitalize()"
   ]
  },
  {
   "cell_type": "code",
   "execution_count": 19,
   "id": "9d811b7e",
   "metadata": {},
   "outputs": [
    {
     "name": "stdout",
     "output_type": "stream",
     "text": [
      "kolkata\n"
     ]
    }
   ],
   "source": [
    "print(c)"
   ]
  },
  {
   "cell_type": "code",
   "execution_count": 20,
   "id": "17df5b24",
   "metadata": {},
   "outputs": [
    {
     "data": {
      "text/plain": [
       "'Hi my name is tushar shukla.'"
      ]
     },
     "execution_count": 20,
     "metadata": {},
     "output_type": "execute_result"
    }
   ],
   "source": [
    "\"hi my name is tushar shukla.\".capitalize()"
   ]
  },
  {
   "cell_type": "code",
   "execution_count": 21,
   "id": "e383df39",
   "metadata": {},
   "outputs": [
    {
     "data": {
      "text/plain": [
       "'Hi My Name Is Tushar Shukla'"
      ]
     },
     "execution_count": 21,
     "metadata": {},
     "output_type": "execute_result"
    }
   ],
   "source": [
    "'hi my name is tushar shukla'.title()"
   ]
  },
  {
   "cell_type": "code",
   "execution_count": 22,
   "id": "247d6867",
   "metadata": {},
   "outputs": [
    {
     "data": {
      "text/plain": [
       "'HI MY NAME IS TUSHAR SHUKLA'"
      ]
     },
     "execution_count": 22,
     "metadata": {},
     "output_type": "execute_result"
    }
   ],
   "source": [
    "'hi my name is tushar shukla'.upper()"
   ]
  },
  {
   "cell_type": "code",
   "execution_count": 23,
   "id": "9bdf5c49",
   "metadata": {},
   "outputs": [
    {
     "data": {
      "text/plain": [
       "'hi my name is tushar shukla'"
      ]
     },
     "execution_count": 23,
     "metadata": {},
     "output_type": "execute_result"
    }
   ],
   "source": [
    "'hi my name is tushar shukla'.lower()"
   ]
  },
  {
   "cell_type": "code",
   "execution_count": 24,
   "id": "dfe441ec",
   "metadata": {},
   "outputs": [
    {
     "data": {
      "text/plain": [
       "'KOLKATA'"
      ]
     },
     "execution_count": 24,
     "metadata": {},
     "output_type": "execute_result"
    }
   ],
   "source": [
    "c.upper()"
   ]
  },
  {
   "cell_type": "code",
   "execution_count": 25,
   "id": "b1c9d5c2",
   "metadata": {},
   "outputs": [
    {
     "data": {
      "text/plain": [
       "'kolkata'"
      ]
     },
     "execution_count": 25,
     "metadata": {},
     "output_type": "execute_result"
    }
   ],
   "source": [
    "c.lower()"
   ]
  },
  {
   "cell_type": "code",
   "execution_count": 26,
   "id": "159ea5cc",
   "metadata": {},
   "outputs": [
    {
     "data": {
      "text/plain": [
       "'Kolkata'"
      ]
     },
     "execution_count": 26,
     "metadata": {},
     "output_type": "execute_result"
    }
   ],
   "source": [
    "c.title()"
   ]
  },
  {
   "cell_type": "code",
   "execution_count": 27,
   "id": "844da24d",
   "metadata": {},
   "outputs": [
    {
     "data": {
      "text/plain": [
       "'hI mY nAME iS tUSHAR sHUKLA'"
      ]
     },
     "execution_count": 27,
     "metadata": {},
     "output_type": "execute_result"
    }
   ],
   "source": [
    "'Hi My Name Is Tushar Shukla'.swapcase()"
   ]
  },
  {
   "cell_type": "markdown",
   "id": "4ec20d5e",
   "metadata": {},
   "source": [
    "## 2. count()"
   ]
  },
  {
   "cell_type": "code",
   "execution_count": 28,
   "id": "08fddad4",
   "metadata": {},
   "outputs": [
    {
     "data": {
      "text/plain": [
       "1"
      ]
     },
     "execution_count": 28,
     "metadata": {},
     "output_type": "execute_result"
    }
   ],
   "source": [
    "# count single character.\n",
    "'quick brown fox jump over the sleeping dog'.count('u')\n",
    "\n",
    "# count substring of a string\n",
    "'quick brown fox jump over the sleeping dog'.count('quick')"
   ]
  },
  {
   "cell_type": "markdown",
   "id": "b6543624",
   "metadata": {},
   "source": [
    "## 3. find(), index()"
   ]
  },
  {
   "cell_type": "code",
   "execution_count": 29,
   "id": "576b21b6",
   "metadata": {},
   "outputs": [
    {
     "data": {
      "text/plain": [
       "14"
      ]
     },
     "execution_count": 29,
     "metadata": {},
     "output_type": "execute_result"
    }
   ],
   "source": [
    "'it is raining heavily'.find('h')"
   ]
  },
  {
   "cell_type": "code",
   "execution_count": 30,
   "id": "e15e65a8",
   "metadata": {},
   "outputs": [
    {
     "data": {
      "text/plain": [
       "3"
      ]
     },
     "execution_count": 30,
     "metadata": {},
     "output_type": "execute_result"
    }
   ],
   "source": [
    "'it is raining heavily'.find('is')"
   ]
  },
  {
   "cell_type": "code",
   "execution_count": 31,
   "id": "acbe1b90",
   "metadata": {},
   "outputs": [
    {
     "data": {
      "text/plain": [
       "0"
      ]
     },
     "execution_count": 31,
     "metadata": {},
     "output_type": "execute_result"
    }
   ],
   "source": [
    "# for repeated characteres it shows first occurence\n",
    "'it is raning heavily'.find('i') "
   ]
  },
  {
   "cell_type": "code",
   "execution_count": 32,
   "id": "39c6cbe6",
   "metadata": {},
   "outputs": [
    {
     "data": {
      "text/plain": [
       "0"
      ]
     },
     "execution_count": 32,
     "metadata": {},
     "output_type": "execute_result"
    }
   ],
   "source": [
    "'it is raining heavily'.index('i')"
   ]
  },
  {
   "cell_type": "code",
   "execution_count": 33,
   "id": "d9166171",
   "metadata": {},
   "outputs": [
    {
     "data": {
      "text/plain": [
       "6"
      ]
     },
     "execution_count": 33,
     "metadata": {},
     "output_type": "execute_result"
    }
   ],
   "source": [
    "'it is raining heavily'.index('rain')"
   ]
  },
  {
   "cell_type": "markdown",
   "id": "3f92ce08",
   "metadata": {},
   "source": [
    "NOTE:- \n",
    "The major difference between find() & index() is that the 'find()' function handels the error more effectively.\n",
    "whereas index() function did'nt responde to errors as find() function does. \n",
    "\"That is why find() function is more preferable over index() function\"."
   ]
  },
  {
   "cell_type": "markdown",
   "id": "760819f0",
   "metadata": {},
   "source": [
    "## 4. endswith() & startwith()"
   ]
  },
  {
   "cell_type": "code",
   "execution_count": 34,
   "id": "73766863",
   "metadata": {},
   "outputs": [
    {
     "data": {
      "text/plain": [
       "True"
      ]
     },
     "execution_count": 34,
     "metadata": {},
     "output_type": "execute_result"
    }
   ],
   "source": [
    "'it is raining heavily'.endswith('heavily')"
   ]
  },
  {
   "cell_type": "code",
   "execution_count": 35,
   "id": "929fc04f",
   "metadata": {},
   "outputs": [
    {
     "data": {
      "text/plain": [
       "False"
      ]
     },
     "execution_count": 35,
     "metadata": {},
     "output_type": "execute_result"
    }
   ],
   "source": [
    "'it is raining heavily'.endswith('sining')"
   ]
  },
  {
   "cell_type": "code",
   "execution_count": 36,
   "id": "ed2d7593",
   "metadata": {},
   "outputs": [
    {
     "data": {
      "text/plain": [
       "True"
      ]
     },
     "execution_count": 36,
     "metadata": {},
     "output_type": "execute_result"
    }
   ],
   "source": [
    "'it is raining heavily'.startswith('it')"
   ]
  },
  {
   "cell_type": "code",
   "execution_count": 37,
   "id": "72546264",
   "metadata": {},
   "outputs": [
    {
     "data": {
      "text/plain": [
       "False"
      ]
     },
     "execution_count": 37,
     "metadata": {},
     "output_type": "execute_result"
    }
   ],
   "source": [
    "'it is raining heavily'.startswith('It')"
   ]
  },
  {
   "cell_type": "code",
   "execution_count": 38,
   "id": "060b4943",
   "metadata": {},
   "outputs": [
    {
     "data": {
      "text/plain": [
       "False"
      ]
     },
     "execution_count": 38,
     "metadata": {},
     "output_type": "execute_result"
    }
   ],
   "source": [
    "'it is raining heavily'.startswith('dancing')"
   ]
  },
  {
   "cell_type": "markdown",
   "id": "066e7d89",
   "metadata": {},
   "source": [
    "## 5. format()"
   ]
  },
  {
   "cell_type": "code",
   "execution_count": 46,
   "id": "b05f5fd2",
   "metadata": {},
   "outputs": [
    {
     "data": {
      "text/plain": [
       "'hello my name is Tushar and I am 22 years old'"
      ]
     },
     "execution_count": 46,
     "metadata": {},
     "output_type": "execute_result"
    }
   ],
   "source": [
    "'hello my name is {} and I am {} years old'.format('Tushar', 22)"
   ]
  },
  {
   "cell_type": "code",
   "execution_count": 53,
   "id": "3e2e6cd3",
   "metadata": {},
   "outputs": [
    {
     "data": {
      "text/plain": [
       "'hello my name is Tushar and I am 22 years old'"
      ]
     },
     "execution_count": 53,
     "metadata": {},
     "output_type": "execute_result"
    }
   ],
   "source": [
    "'hello my name is {name} and I am {age} years old'.format(name = 'Tushar', age = 22)"
   ]
  },
  {
   "cell_type": "code",
   "execution_count": 58,
   "id": "ed08ab17",
   "metadata": {},
   "outputs": [
    {
     "data": {
      "text/plain": [
       "'hello my name is 22 and I am Tushar years old'"
      ]
     },
     "execution_count": 58,
     "metadata": {},
     "output_type": "execute_result"
    }
   ],
   "source": [
    "'hello my name is {1} and I am {0} years old'.format('Tushar', 22)"
   ]
  },
  {
   "cell_type": "code",
   "execution_count": 60,
   "id": "90474528",
   "metadata": {},
   "outputs": [
    {
     "data": {
      "text/plain": [
       "'welcome to the shutter island Gentelmen.'"
      ]
     },
     "execution_count": 60,
     "metadata": {},
     "output_type": "execute_result"
    }
   ],
   "source": [
    "'welcome to the shutter island {}.'.format('Gentelmen')"
   ]
  },
  {
   "cell_type": "code",
   "execution_count": 65,
   "id": "15df30f2",
   "metadata": {},
   "outputs": [
    {
     "data": {
      "text/plain": [
       "'Hail!! earl Ragnar'"
      ]
     },
     "execution_count": 65,
     "metadata": {},
     "output_type": "execute_result"
    }
   ],
   "source": [
    "'Hail!! earl {name}'.format(name = 'Ragnar')"
   ]
  },
  {
   "cell_type": "code",
   "execution_count": 67,
   "id": "ab6eca48",
   "metadata": {},
   "outputs": [
    {
     "data": {
      "text/plain": [
       "'His name is Tushar and he studies in VJTI collage.'"
      ]
     },
     "execution_count": 67,
     "metadata": {},
     "output_type": "execute_result"
    }
   ],
   "source": [
    "'His name is {} and he studies in {} collage.'.format('Tushar', 'VJTI')"
   ]
  },
  {
   "cell_type": "code",
   "execution_count": 68,
   "id": "75ecbcf7",
   "metadata": {},
   "outputs": [
    {
     "data": {
      "text/plain": [
       "'His name is Tushar and he studies in VJTI collage.'"
      ]
     },
     "execution_count": 68,
     "metadata": {},
     "output_type": "execute_result"
    }
   ],
   "source": [
    "'His name is {name} and he studies in {collage_name} collage.'.format(name='Tushar',\n",
    "                                                                     collage_name='VJTI')"
   ]
  },
  {
   "cell_type": "code",
   "execution_count": 69,
   "id": "08b64e5a",
   "metadata": {},
   "outputs": [
    {
     "data": {
      "text/plain": [
       "'His name is Tushar and he studies in VJTI collage.'"
      ]
     },
     "execution_count": 69,
     "metadata": {},
     "output_type": "execute_result"
    }
   ],
   "source": [
    "'His name is {0} and he studies in {1} collage.'.format('Tushar', 'VJTI')"
   ]
  },
  {
   "cell_type": "code",
   "execution_count": 70,
   "id": "6ac6e108",
   "metadata": {},
   "outputs": [
    {
     "data": {
      "text/plain": [
       "'His name is VJTI and he studies in Tushar collage.'"
      ]
     },
     "execution_count": 70,
     "metadata": {},
     "output_type": "execute_result"
    }
   ],
   "source": [
    "# changing the positions of formating values.\n",
    "'His name is {1} and he studies in {0} collage.'.format('Tushar', 'VJTI')"
   ]
  },
  {
   "cell_type": "markdown",
   "id": "c53a643d",
   "metadata": {},
   "source": [
    "## 6. isalnum(), isdigit(), isnum(), isalpha()"
   ]
  },
  {
   "cell_type": "code",
   "execution_count": 74,
   "id": "9efcd604",
   "metadata": {},
   "outputs": [
    {
     "data": {
      "text/plain": [
       "True"
      ]
     },
     "execution_count": 74,
     "metadata": {},
     "output_type": "execute_result"
    }
   ],
   "source": [
    "'Tusharrr'.isalnum()"
   ]
  },
  {
   "cell_type": "code",
   "execution_count": 76,
   "id": "aadd6403",
   "metadata": {},
   "outputs": [
    {
     "data": {
      "text/plain": [
       "False"
      ]
     },
     "execution_count": 76,
     "metadata": {},
     "output_type": "execute_result"
    }
   ],
   "source": [
    "'tushar12'.isalpha()"
   ]
  },
  {
   "cell_type": "code",
   "execution_count": 81,
   "id": "a271176d",
   "metadata": {},
   "outputs": [
    {
     "data": {
      "text/plain": [
       "True"
      ]
     },
     "execution_count": 81,
     "metadata": {},
     "output_type": "execute_result"
    }
   ],
   "source": [
    "'12343242'.isdecimal()"
   ]
  },
  {
   "cell_type": "code",
   "execution_count": 82,
   "id": "c4eb9169",
   "metadata": {},
   "outputs": [
    {
     "data": {
      "text/plain": [
       "True"
      ]
     },
     "execution_count": 82,
     "metadata": {},
     "output_type": "execute_result"
    }
   ],
   "source": [
    "'1234'.isdigit()"
   ]
  },
  {
   "cell_type": "code",
   "execution_count": 84,
   "id": "b39ae31b",
   "metadata": {},
   "outputs": [
    {
     "data": {
      "text/plain": [
       "False"
      ]
     },
     "execution_count": 84,
     "metadata": {},
     "output_type": "execute_result"
    }
   ],
   "source": [
    "'324nfvafv535'.isalpha()"
   ]
  },
  {
   "cell_type": "code",
   "execution_count": 86,
   "id": "4f4127e2",
   "metadata": {},
   "outputs": [
    {
     "data": {
      "text/plain": [
       "True"
      ]
     },
     "execution_count": 86,
     "metadata": {},
     "output_type": "execute_result"
    }
   ],
   "source": [
    "'A'.isascii()"
   ]
  },
  {
   "cell_type": "code",
   "execution_count": 95,
   "id": "d4c9e968",
   "metadata": {},
   "outputs": [
    {
     "data": {
      "text/plain": [
       "False"
      ]
     },
     "execution_count": 95,
     "metadata": {},
     "output_type": "execute_result"
    }
   ],
   "source": [
    "'tushar'.isupper()"
   ]
  },
  {
   "cell_type": "code",
   "execution_count": 96,
   "id": "43a38663",
   "metadata": {},
   "outputs": [
    {
     "data": {
      "text/plain": [
       "False"
      ]
     },
     "execution_count": 96,
     "metadata": {},
     "output_type": "execute_result"
    }
   ],
   "source": [
    "'TUSHAR'.islower()"
   ]
  },
  {
   "cell_type": "code",
   "execution_count": 97,
   "id": "7db4c8ea",
   "metadata": {},
   "outputs": [
    {
     "data": {
      "text/plain": [
       "True"
      ]
     },
     "execution_count": 97,
     "metadata": {},
     "output_type": "execute_result"
    }
   ],
   "source": [
    "'tushar_shukla'.isidentifier()"
   ]
  },
  {
   "cell_type": "code",
   "execution_count": 98,
   "id": "7d8a7705",
   "metadata": {},
   "outputs": [
    {
     "data": {
      "text/plain": [
       "False"
      ]
     },
     "execution_count": 98,
     "metadata": {},
     "output_type": "execute_result"
    }
   ],
   "source": [
    "'133'.istitle()"
   ]
  },
  {
   "cell_type": "code",
   "execution_count": 102,
   "id": "e295a7ac",
   "metadata": {},
   "outputs": [
    {
     "data": {
      "text/plain": [
       "False"
      ]
     },
     "execution_count": 102,
     "metadata": {},
     "output_type": "execute_result"
    }
   ],
   "source": [
    "'This Is  title'.istitle()"
   ]
  },
  {
   "cell_type": "markdown",
   "id": "be2f5517",
   "metadata": {},
   "source": [
    "## 7. split()"
   ]
  },
  {
   "cell_type": "code",
   "execution_count": 107,
   "id": "fa4a70fe",
   "metadata": {},
   "outputs": [
    {
     "data": {
      "text/plain": [
       "['split', 'this', 'string', 'and', 'convert', 'it', 'into', 'a', 'list']"
      ]
     },
     "execution_count": 107,
     "metadata": {},
     "output_type": "execute_result"
    }
   ],
   "source": [
    "'split this string and convert it into a list'.split()"
   ]
  },
  {
   "cell_type": "code",
   "execution_count": 110,
   "id": "01fd72ab",
   "metadata": {},
   "outputs": [
    {
     "data": {
      "text/plain": [
       "['', 'plit thi', ' ', 'tring and convert it into a li', 't']"
      ]
     },
     "execution_count": 110,
     "metadata": {},
     "output_type": "execute_result"
    }
   ],
   "source": [
    "'split this string and convert it into a list'.split('s')"
   ]
  },
  {
   "cell_type": "code",
   "execution_count": 111,
   "id": "87382e59",
   "metadata": {},
   "outputs": [
    {
     "data": {
      "text/plain": [
       "['split t', 'is string and convert it into a list']"
      ]
     },
     "execution_count": 111,
     "metadata": {},
     "output_type": "execute_result"
    }
   ],
   "source": [
    "'split this string and convert it into a list'.split('h')"
   ]
  },
  {
   "cell_type": "code",
   "execution_count": 112,
   "id": "0cc445eb",
   "metadata": {},
   "outputs": [
    {
     "data": {
      "text/plain": [
       "['split this string and convert it into a list']"
      ]
     },
     "execution_count": 112,
     "metadata": {},
     "output_type": "execute_result"
    }
   ],
   "source": [
    "'split this string and convert it into a list'.split('x')"
   ]
  },
  {
   "cell_type": "markdown",
   "id": "e6d1b16f",
   "metadata": {},
   "source": [
    "## 8. Join"
   ]
  },
  {
   "cell_type": "code",
   "execution_count": 122,
   "id": "bec5a12c",
   "metadata": {},
   "outputs": [
    {
     "data": {
      "text/plain": [
       "'this is a value of a string'"
      ]
     },
     "execution_count": 122,
     "metadata": {},
     "output_type": "execute_result"
    }
   ],
   "source": [
    "' '.join(['this', 'is', 'a', 'value', 'of', 'a', 'string'])"
   ]
  },
  {
   "cell_type": "code",
   "execution_count": 123,
   "id": "467859d3",
   "metadata": {},
   "outputs": [
    {
     "data": {
      "text/plain": [
       "'this-is-a-value-of-a-string'"
      ]
     },
     "execution_count": 123,
     "metadata": {},
     "output_type": "execute_result"
    }
   ],
   "source": [
    "'-'.join(['this', 'is', 'a', 'value', 'of', 'a', 'string'])"
   ]
  },
  {
   "cell_type": "markdown",
   "id": "7add6497",
   "metadata": {},
   "source": [
    "## 9. Replace"
   ]
  },
  {
   "cell_type": "code",
   "execution_count": 128,
   "id": "5ad98f6e",
   "metadata": {},
   "outputs": [
    {
     "data": {
      "text/plain": [
       "'Hi my name is navneet'"
      ]
     },
     "execution_count": 128,
     "metadata": {},
     "output_type": "execute_result"
    }
   ],
   "source": [
    "'Hi my name is tushar'.replace('tushar', 'navneet')"
   ]
  },
  {
   "cell_type": "code",
   "execution_count": 132,
   "id": "f3706cd3",
   "metadata": {},
   "outputs": [
    {
     "data": {
      "text/plain": [
       "'hi my name is tushar'"
      ]
     },
     "execution_count": 132,
     "metadata": {},
     "output_type": "execute_result"
    }
   ],
   "source": [
    "'Hi my name is tushar'.replace('H', 'h')"
   ]
  },
  {
   "cell_type": "markdown",
   "id": "95ac2aa9",
   "metadata": {},
   "source": [
    "## 10. strip"
   ]
  },
  {
   "cell_type": "code",
   "execution_count": 141,
   "id": "5679a15d",
   "metadata": {},
   "outputs": [
    {
     "name": "stdout",
     "output_type": "stream",
     "text": [
      "    tushar\n"
     ]
    }
   ],
   "source": [
    "# before removing trailing spaces\n",
    "name = '    tushar'\n",
    "print(name)"
   ]
  },
  {
   "cell_type": "code",
   "execution_count": 142,
   "id": "56709be6",
   "metadata": {},
   "outputs": [
    {
     "data": {
      "text/plain": [
       "'tushar'"
      ]
     },
     "execution_count": 142,
     "metadata": {},
     "output_type": "execute_result"
    }
   ],
   "source": [
    "# after removing trailing spaces\n",
    "name.strip()"
   ]
  },
  {
   "cell_type": "code",
   "execution_count": 143,
   "id": "8e967919",
   "metadata": {},
   "outputs": [
    {
     "name": "stdout",
     "output_type": "stream",
     "text": [
      "   tushar   \n"
     ]
    }
   ],
   "source": [
    "# before removing trailing and leading spaces\n",
    "name = '   tushar   '\n",
    "print(name)"
   ]
  },
  {
   "cell_type": "code",
   "execution_count": 165,
   "id": "a8bb47ae",
   "metadata": {},
   "outputs": [
    {
     "data": {
      "text/plain": [
       "'tushar'"
      ]
     },
     "execution_count": 165,
     "metadata": {},
     "output_type": "execute_result"
    }
   ],
   "source": [
    "# after removing trailing spaces\n",
    "name = '    tushar   '\n",
    "name.strip()"
   ]
  }
 ],
 "metadata": {
  "kernelspec": {
   "display_name": "Python 3 (ipykernel)",
   "language": "python",
   "name": "python3"
  },
  "language_info": {
   "codemirror_mode": {
    "name": "ipython",
    "version": 3
   },
   "file_extension": ".py",
   "mimetype": "text/x-python",
   "name": "python",
   "nbconvert_exporter": "python",
   "pygments_lexer": "ipython3",
   "version": "3.10.12"
  }
 },
 "nbformat": 4,
 "nbformat_minor": 5
}
