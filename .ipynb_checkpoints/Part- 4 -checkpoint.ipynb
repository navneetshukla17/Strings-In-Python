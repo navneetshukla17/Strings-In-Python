{
 "cells": [
  {
   "cell_type": "markdown",
   "id": "5dbb624c",
   "metadata": {},
   "source": [
    "### Operations on strings\n",
    "\n",
    "- Arithmetic Operations\n",
    "- Relational Operations\n",
    "- Logical Operations\n",
    "- Loops on Strings\n",
    "- Membership Operations"
   ]
  },
  {
   "cell_type": "markdown",
   "id": "bec64157",
   "metadata": {},
   "source": [
    "- ARITHMETIC OPERATION"
   ]
  },
  {
   "cell_type": "code",
   "execution_count": 25,
   "id": "5b1eb429",
   "metadata": {},
   "outputs": [
    {
     "data": {
      "text/plain": [
       "'Hello World'"
      ]
     },
     "execution_count": 25,
     "metadata": {},
     "output_type": "execute_result"
    }
   ],
   "source": [
    "# string concatination\n",
    "'Hello ' + 'World'"
   ]
  },
  {
   "cell_type": "code",
   "execution_count": 26,
   "id": "31bd8c6c",
   "metadata": {},
   "outputs": [
    {
     "name": "stdout",
     "output_type": "stream",
     "text": [
      "Hello World\n"
     ]
    }
   ],
   "source": [
    "str_1 = 'Hello '\n",
    "str_2 = 'World'\n",
    "\n",
    "print(str_1 + str_2)"
   ]
  },
  {
   "cell_type": "code",
   "execution_count": 27,
   "id": "a94e0051",
   "metadata": {},
   "outputs": [
    {
     "name": "stdout",
     "output_type": "stream",
     "text": [
      "*******************************************\n",
      "This is an example of string multiplication.\n",
      "*******************************************\n"
     ]
    }
   ],
   "source": [
    "# string multiplication\n",
    "print('*' * 43)\n",
    "print('This is an example of string multiplication.')\n",
    "print('*' * 43)"
   ]
  },
  {
   "cell_type": "code",
   "execution_count": 28,
   "id": "dc5a16d0",
   "metadata": {},
   "outputs": [
    {
     "name": "stdout",
     "output_type": "stream",
     "text": [
      "--------------------------------------------------\n",
      "This is also an example of string multiplication.\n",
      "--------------------------------------------------\n"
     ]
    }
   ],
   "source": [
    "print('-' * 50)\n",
    "print('This is also an example of string multiplication.')\n",
    "print('-' * 50)"
   ]
  },
  {
   "cell_type": "markdown",
   "id": "84be8007",
   "metadata": {},
   "source": [
    "- RELATIONAL OPERATION"
   ]
  },
  {
   "cell_type": "code",
   "execution_count": 29,
   "id": "8dc5b347",
   "metadata": {},
   "outputs": [
    {
     "data": {
      "text/plain": [
       "False"
      ]
     },
     "execution_count": 29,
     "metadata": {},
     "output_type": "execute_result"
    }
   ],
   "source": [
    "'Hello' == 'hello'"
   ]
  },
  {
   "cell_type": "code",
   "execution_count": 30,
   "id": "c4a72e13",
   "metadata": {},
   "outputs": [
    {
     "data": {
      "text/plain": [
       "False"
      ]
     },
     "execution_count": 30,
     "metadata": {},
     "output_type": "execute_result"
    }
   ],
   "source": [
    "'Hello' == 'World'"
   ]
  },
  {
   "cell_type": "code",
   "execution_count": 31,
   "id": "4de63ccf",
   "metadata": {},
   "outputs": [
    {
     "data": {
      "text/plain": [
       "True"
      ]
     },
     "execution_count": 31,
     "metadata": {},
     "output_type": "execute_result"
    }
   ],
   "source": [
    "'Hello' != 'HELLO'"
   ]
  },
  {
   "cell_type": "code",
   "execution_count": 42,
   "id": "cea7b6c6",
   "metadata": {},
   "outputs": [
    {
     "data": {
      "text/plain": [
       "True"
      ]
     },
     "execution_count": 42,
     "metadata": {},
     "output_type": "execute_result"
    }
   ],
   "source": [
    "'Mumbai' < 'Pune' # comparaing based on lexiography"
   ]
  },
  {
   "cell_type": "markdown",
   "id": "1c83be5d",
   "metadata": {},
   "source": [
    "- Lexiography is a term used to check which character occurs according to alphabetical order.\n",
    "- In above exaple 'Mumbai' [M] < 'Pune' [P] is TRUE, because M(13) comes first in alphabetical order then P(16)"
   ]
  },
  {
   "cell_type": "code",
   "execution_count": 44,
   "id": "1428f8f3",
   "metadata": {},
   "outputs": [
    {
     "data": {
      "text/plain": [
       "'World'"
      ]
     },
     "execution_count": 44,
     "metadata": {},
     "output_type": "execute_result"
    }
   ],
   "source": [
    "'Hello' and 'World'"
   ]
  },
  {
   "cell_type": "code",
   "execution_count": 47,
   "id": "ee4e26c1",
   "metadata": {},
   "outputs": [
    {
     "data": {
      "text/plain": [
       "''"
      ]
     },
     "execution_count": 47,
     "metadata": {},
     "output_type": "execute_result"
    }
   ],
   "source": [
    "'' and 'World'"
   ]
  },
  {
   "cell_type": "code",
   "execution_count": 46,
   "id": "c5f41e95",
   "metadata": {},
   "outputs": [
    {
     "data": {
      "text/plain": [
       "'Hello'"
      ]
     },
     "execution_count": 46,
     "metadata": {},
     "output_type": "execute_result"
    }
   ],
   "source": [
    "'Hello' or 'World'"
   ]
  },
  {
   "cell_type": "code",
   "execution_count": 48,
   "id": "b577d169",
   "metadata": {},
   "outputs": [
    {
     "data": {
      "text/plain": [
       "'world'"
      ]
     },
     "execution_count": 48,
     "metadata": {},
     "output_type": "execute_result"
    }
   ],
   "source": [
    "'hello' and 'world'"
   ]
  },
  {
   "cell_type": "code",
   "execution_count": 49,
   "id": "512cc0b6",
   "metadata": {},
   "outputs": [
    {
     "data": {
      "text/plain": [
       "' '"
      ]
     },
     "execution_count": 49,
     "metadata": {},
     "output_type": "execute_result"
    }
   ],
   "source": [
    "'hello' and ' '"
   ]
  },
  {
   "cell_type": "code",
   "execution_count": 58,
   "id": "a966805c",
   "metadata": {},
   "outputs": [
    {
     "name": "stdout",
     "output_type": "stream",
     "text": [
      "T\n",
      "s\n",
      "a\n",
      " \n",
      "h\n",
      "k\n",
      "a\n"
     ]
    }
   ],
   "source": [
    "name = 'Tushar Shukla'\n",
    "\n",
    "for i in name[0::2]:\n",
    "    print(i)"
   ]
  },
  {
   "cell_type": "code",
   "execution_count": 63,
   "id": "afd443d5",
   "metadata": {},
   "outputs": [
    {
     "data": {
      "text/plain": [
       "True"
      ]
     },
     "execution_count": 63,
     "metadata": {},
     "output_type": "execute_result"
    }
   ],
   "source": [
    "msg = 'This is a coded msg'\n",
    "\n",
    "'This' in msg"
   ]
  },
  {
   "cell_type": "code",
   "execution_count": null,
   "id": "6f2ba551",
   "metadata": {},
   "outputs": [],
   "source": []
  }
 ],
 "metadata": {
  "kernelspec": {
   "display_name": "Python 3 (ipykernel)",
   "language": "python",
   "name": "python3"
  },
  "language_info": {
   "codemirror_mode": {
    "name": "ipython",
    "version": 3
   },
   "file_extension": ".py",
   "mimetype": "text/x-python",
   "name": "python",
   "nbconvert_exporter": "python",
   "pygments_lexer": "ipython3",
   "version": "3.10.12"
  }
 },
 "nbformat": 4,
 "nbformat_minor": 5
}
